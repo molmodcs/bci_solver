{
 "cells": [
  {
   "cell_type": "code",
   "execution_count": 14,
   "id": "1843506e",
   "metadata": {},
   "outputs": [
    {
     "name": "stdout",
     "output_type": "stream",
     "text": [
      "Os componentes do Vector momento de dipolo em C.m: [ 1.415920e-30 -9.061888e-30  0.000000e+00]\n",
      "A magnitude do momento de dipolo: 2.7496491542317845 Debye\n"
     ]
    }
   ],
   "source": [
    "# calculo do momento de dipolo apartir de cargas atomicas parciais CHELPG\n",
    "\n",
    "# Importar programa que fara calculos matematicos\n",
    "import numpy as np\n",
    "\n",
    "# definir cargas parciais atômicas e coordenadas (x,y,z) por cada atomo\n",
    "cargas = np.array([0.18, -0.36, 0.45, -0.38]) #as cargas \n",
    "coordenadas = np.array([\n",
    " [182, -87, 0], # atomo H\n",
    " [132, 0, 0], #atomo N\n",
    " [0, 0, 0], # atomo C\n",
    " [-62, 107, 0], # atomo O\n",
    " ])\n",
    "\n",
    "# calculo componentes de vetor momento de dipolo ($mu_x$, $mu_y$, $mu_z$) \n",
    "# As coordenadas ORCA estao em Angstrom. 1A = 10^-10 m  \n",
    "# As cargas ORCA estão em e. 1e = 1.609*10^-19 C\n",
    "dipolo = np.sum(cargas[:, np.newaxis] * coordenadas, axis=0) \n",
    "dipolo2 = dipolo * (1.609*10**(-19))*(10**(-12))\n",
    "\n",
    "# calculo da magnitude do momento de dipolo. 1D = 3.33564*10^(-30)Cm\n",
    "magnitude_dipolo = np.linalg.norm(dipolo2)\n",
    "\n",
    "Debye = magnitude_dipolo * (1)/(3.33564*10**(-30))\n",
    "\n",
    "print(f\"Os componentes do Vector momento de dipolo em unidades C.m: {dipolo2}\")\n",
    "#print(f\"A magnitude do momento de dipolo: {magnitude_dipolo:.3f} Debye\")\n",
    "print(f\"A magnitude do momento de dipolo: {Debye} Debye\")\n"
   ]
  },
  {
   "cell_type": "code",
   "execution_count": null,
   "id": "a996b8b5",
   "metadata": {},
   "outputs": [],
   "source": []
  },
  {
   "cell_type": "code",
   "execution_count": null,
   "id": "b944adc2",
   "metadata": {},
   "outputs": [],
   "source": []
  }
 ],
 "metadata": {
  "kernelspec": {
   "display_name": "Python 3 (ipykernel)",
   "language": "python",
   "name": "python3"
  },
  "language_info": {
   "codemirror_mode": {
    "name": "ipython",
    "version": 3
   },
   "file_extension": ".py",
   "mimetype": "text/x-python",
   "name": "python",
   "nbconvert_exporter": "python",
   "pygments_lexer": "ipython3",
   "version": "3.9.13"
  }
 },
 "nbformat": 4,
 "nbformat_minor": 5
}
