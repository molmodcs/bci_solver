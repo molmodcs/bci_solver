{
 "cells": [
  {
   "cell_type": "markdown",
   "id": "06ca3712",
   "metadata": {},
   "source": [
    "# Overview \n",
    "\n",
    "The purpose of the script is to recover information about the bond charge increments of a given interatomic interaction present in a chemical structure from the charges of each atom appearing in such structure. More precisely, given a chemical structure whose atoms are enumerated, the partial atomic charge $q_{j}$ of the $j$-th atom appearing in it is calculated through the MMFF94 force field as:\n",
    "\\begin{equation}\n",
    "q_{j} = q_{I_{j}}^{0} + \\sum\\limits_{k \\, \\, \\text{bonded to} \\, \\, j} \\omega_{I_{k},I_{j}}\n",
    "\\end{equation}\n",
    "These values are so that:\n",
    "\n",
    "* $I_{j}$ refers to the MMFF94 atom type of the $j$-th atom.\n",
    "\n",
    "* $q_{I_{j}}^{0}$ is the integral or fractional formal atomic\n",
    "charge associated to the atom type $I_{j}$, while $\\omega_{I_{k}, I_{j}}$ refers to the bond charge increment (bci) resulting from the interaction between the bonded atoms $j$ and $k$ of types $I_{j}$ e $I_{k}$ - respectively.\n",
    "\n",
    "* For any two given atom types $I_{j},I_{k}$, it holds that $\\omega_{I_{j},I_{k}} = - \\omega_{I_{k},I_{j}}$.\n",
    "\n",
    "Thus, once we have knowledge of all the bci values for the atoms types which are present in a given structure, it is possible to obtain the atomic charges for any of its constituent atoms.\n",
    "\n",
    "Conversely, it is natural to ask if it is possible to regenerate within a good degree of accuracy the bci values $\\omega_{I_{k}, I_{j}}$ for a given enumerated structure with specified charges $q_{j}$ and $q_{I_{j}}^{0}$.\n",
    "\n",
    "As a first insight, we notice that if we have any structure consisting of $N$ atoms:\n",
    "\\begin{equation}\n",
    "q_{j} - q_{I_{j}}^{0} = \\sum\\limits_{k \\, \\, \\text{bonded to} \\, \\, j} \\omega_{I_{k},I_{j}}\n",
    "\\end{equation}\n",
    "Determines a system of $N$ linear equations and $M$ unknown values, which correspond to the $M$ unique bci values appearing in the structure. Thus, our proposed problem is equivalent to finding solutions to the following linear equation\n",
    "\\begin{equation}\n",
    "\\Delta q = B \\omega\n",
    "\\end{equation}\n",
    "Where $\\Delta q$ is the vector in $\\mathbb{R}^{N}$ whose coordinates are specified by $q_{j} - q^{0}_{I_{j}}$, $\\omega$ being the vector in $\\mathbb{R}^{M}$ of unknown bci values $\\omega_{I_{k}, I_{j}}$, where we convention that $k < j$ and entries are sorted by lexicographic order, as well as: \n",
    "\\begin{equation}\n",
    "B = (b_{rs})_{\\substack{1 \\leq r \\leq N \\\\ 1 \\leq s \\leq M}}\n",
    "\\end{equation}\n",
    "being the $N \\times M$ matrix of coefficients for each bci $\\omega_{I_{k}, I_{j}}$ obtained from connectivity information about the structure. As such, the matrix $B$ is meant to be so that for each $r$, the following equation holds:\n",
    "\n",
    "\\begin{equation}\n",
    "q_{r} - q_{I_{r}}^{0} =\\sum\\limits_{s=1}^{M} b_{rs} \\omega_{I_{j_{s}},I_{k_{s}}}\n",
    "\\end{equation}\n",
    "\n",
    "We follow Halgren's previous approach and utilize a least squares method to find approximate solutions to the above-mentioned linear system of equations.\n",
    "\n",
    "This procedure was implemented as a computer program written using Python and its libraries - NumPy, SciPy and Matplotlib - for performing the necessary data manipulation, the least squares method and data visualization - respectively."
   ]
  },
  {
   "cell_type": "markdown",
   "id": "fd9ee200-e937-4d08-bdb5-efcbaa9382d9",
   "metadata": {},
   "source": [
    "# Dependencies\n",
    "\n",
    "For conveniency, we let available the necessary dependencies for running this script in in the corresponding cells."
   ]
  },
  {
   "cell_type": "markdown",
   "id": "8ed6e02c-8039-4bee-9a03-5c8373c67e42",
   "metadata": {},
   "source": [
    "### Numpy Installation (Pip)"
   ]
  },
  {
   "cell_type": "code",
   "execution_count": 1,
   "id": "d45dfcb3-ba9a-41b3-84da-b88a319556d0",
   "metadata": {},
   "outputs": [
    {
     "name": "stdout",
     "output_type": "stream",
     "text": [
      "Requirement already satisfied: numpy in c:\\users\\luciano\\anaconda3\\lib\\site-packages (1.21.5)\n",
      "Note: you may need to restart the kernel to use updated packages.\n"
     ]
    }
   ],
   "source": [
    "pip install numpy"
   ]
  },
  {
   "cell_type": "markdown",
   "id": "03d86cf3-c1cc-4f83-9699-3924e040dd87",
   "metadata": {},
   "source": [
    "### Numpy Installation (Conda)"
   ]
  },
  {
   "cell_type": "code",
   "execution_count": 1,
   "id": "65c6d93f-517c-43a2-ac7c-23122bf16067",
   "metadata": {},
   "outputs": [
    {
     "ename": "SyntaxError",
     "evalue": "invalid syntax (2928272308.py, line 2)",
     "output_type": "error",
     "traceback": [
      "\u001b[1;36m  File \u001b[1;32m\"C:\\Users\\Luciano\\AppData\\Local\\Temp\\ipykernel_14908\\2928272308.py\"\u001b[1;36m, line \u001b[1;32m2\u001b[0m\n\u001b[1;33m    conda create -n my-env\u001b[0m\n\u001b[1;37m          ^\u001b[0m\n\u001b[1;31mSyntaxError\u001b[0m\u001b[1;31m:\u001b[0m invalid syntax\n"
     ]
    }
   ],
   "source": [
    "# Best practice, use an environment rather than install in the base env\n",
    "conda create -n my-env\n",
    "conda activate my-env\n",
    "# If you want to install from conda-forge\n",
    "conda config --env --add channels conda-forge\n",
    "# The actual install command\n",
    "conda install numpy"
   ]
  },
  {
   "cell_type": "markdown",
   "id": "43b3d70e-ea19-4915-9d7b-fd2b72cae268",
   "metadata": {},
   "source": [
    "### SciPy"
   ]
  },
  {
   "cell_type": "code",
   "execution_count": 3,
   "id": "b5cf2e86-45f0-4998-a4cc-dac59760244f",
   "metadata": {},
   "outputs": [
    {
     "name": "stdout",
     "output_type": "stream",
     "text": [
      "Requirement already satisfied: scipy in c:\\users\\luciano\\anaconda3\\lib\\site-packages (1.9.1)\n",
      "Requirement already satisfied: numpy<1.25.0,>=1.18.5 in c:\\users\\luciano\\anaconda3\\lib\\site-packages (from scipy) (1.21.5)\n",
      "Note: you may need to restart the kernel to use updated packages.\n"
     ]
    }
   ],
   "source": [
    "pip install scipy"
   ]
  },
  {
   "cell_type": "code",
   "execution_count": 4,
   "id": "38652bde-f4f4-44a7-9115-6f35b14ea0c1",
   "metadata": {},
   "outputs": [
    {
     "name": "stdout",
     "output_type": "stream",
     "text": [
      "Collecting package metadata (current_repodata.json): ...working... done\n",
      "Solving environment: ...working... done\n",
      "\n",
      "# All requested packages already installed.\n",
      "\n",
      "Retrieving notices: ...working... done\n",
      "\n",
      "Note: you may need to restart the kernel to use updated packages.\n"
     ]
    },
    {
     "name": "stderr",
     "output_type": "stream",
     "text": [
      "\n",
      "\n",
      "==> WARNING: A newer version of conda exists. <==\n",
      "  current version: 22.9.0\n",
      "  latest version: 24.3.0\n",
      "\n",
      "Please update conda by running\n",
      "\n",
      "    $ conda update -n base -c defaults conda\n",
      "\n",
      "\n"
     ]
    }
   ],
   "source": [
    "conda install scipy"
   ]
  },
  {
   "cell_type": "markdown",
   "id": "a1675e60-85c2-4d04-a359-aa63eecc8a38",
   "metadata": {},
   "source": [
    "### Matplotlib (Pip)"
   ]
  },
  {
   "cell_type": "code",
   "execution_count": 5,
   "id": "bc8d9272-59f8-43eb-b2ed-31d4228d33b9",
   "metadata": {},
   "outputs": [
    {
     "name": "stdout",
     "output_type": "stream",
     "text": [
      "Requirement already satisfied: matplotlib in c:\\users\\luciano\\anaconda3\\lib\\site-packages (3.5.2)\n",
      "Requirement already satisfied: pyparsing>=2.2.1 in c:\\users\\luciano\\anaconda3\\lib\\site-packages (from matplotlib) (3.0.9)\n",
      "Requirement already satisfied: python-dateutil>=2.7 in c:\\users\\luciano\\anaconda3\\lib\\site-packages (from matplotlib) (2.8.2)\n",
      "Requirement already satisfied: fonttools>=4.22.0 in c:\\users\\luciano\\anaconda3\\lib\\site-packages (from matplotlib) (4.25.0)\n",
      "Requirement already satisfied: packaging>=20.0 in c:\\users\\luciano\\anaconda3\\lib\\site-packages (from matplotlib) (21.3)\n",
      "Requirement already satisfied: numpy>=1.17 in c:\\users\\luciano\\anaconda3\\lib\\site-packages (from matplotlib) (1.21.5)\n",
      "Requirement already satisfied: cycler>=0.10 in c:\\users\\luciano\\anaconda3\\lib\\site-packages (from matplotlib) (0.11.0)\n",
      "Requirement already satisfied: kiwisolver>=1.0.1 in c:\\users\\luciano\\anaconda3\\lib\\site-packages (from matplotlib) (1.4.2)\n",
      "Requirement already satisfied: pillow>=6.2.0 in c:\\users\\luciano\\anaconda3\\lib\\site-packages (from matplotlib) (9.2.0)\n",
      "Requirement already satisfied: six>=1.5 in c:\\users\\luciano\\anaconda3\\lib\\site-packages (from python-dateutil>=2.7->matplotlib) (1.16.0)\n",
      "Note: you may need to restart the kernel to use updated packages.\n"
     ]
    }
   ],
   "source": [
    "pip install matplotlib"
   ]
  },
  {
   "cell_type": "markdown",
   "id": "0d3ba85e-1103-4312-bee5-fa85c1b46fa2",
   "metadata": {},
   "source": [
    "### Matplotlib (Conda)"
   ]
  },
  {
   "cell_type": "code",
   "execution_count": 6,
   "id": "d41e57ab-c53e-44e9-8f6b-46a14fab95f0",
   "metadata": {},
   "outputs": [
    {
     "name": "stdout",
     "output_type": "stream",
     "text": [
      "Collecting package metadata (current_repodata.json): ...working... done\n",
      "Solving environment: ...working... done\n",
      "\n",
      "# All requested packages already installed.\n",
      "\n",
      "Retrieving notices: ...working... done\n",
      "\n",
      "Note: you may need to restart the kernel to use updated packages.\n"
     ]
    },
    {
     "name": "stderr",
     "output_type": "stream",
     "text": [
      "\n",
      "\n",
      "==> WARNING: A newer version of conda exists. <==\n",
      "  current version: 22.9.0\n",
      "  latest version: 24.3.0\n",
      "\n",
      "Please update conda by running\n",
      "\n",
      "    $ conda update -n base -c defaults conda\n",
      "\n",
      "\n"
     ]
    }
   ],
   "source": [
    "conda install matplotlib"
   ]
  },
  {
   "cell_type": "markdown",
   "id": "7d53cf30-a9c8-49d1-9ba8-3864025cde01",
   "metadata": {},
   "source": [
    "### Matplotlib (Conda C-Forge)"
   ]
  },
  {
   "cell_type": "code",
   "execution_count": 7,
   "id": "80a3ac25-6c68-4f3d-a995-6e2aae57e7bb",
   "metadata": {},
   "outputs": [
    {
     "name": "stdout",
     "output_type": "stream",
     "text": [
      "Collecting package metadata (current_repodata.json): ...working... done\n",
      "Solving environment: ...working... done\n",
      "\n",
      "# All requested packages already installed.\n",
      "\n",
      "Retrieving notices: ...working... done\n",
      "\n",
      "Note: you may need to restart the kernel to use updated packages.\n"
     ]
    },
    {
     "name": "stderr",
     "output_type": "stream",
     "text": [
      "\n",
      "\n",
      "==> WARNING: A newer version of conda exists. <==\n",
      "  current version: 22.9.0\n",
      "  latest version: 24.3.0\n",
      "\n",
      "Please update conda by running\n",
      "\n",
      "    $ conda update -n base -c defaults conda\n",
      "\n",
      "\n"
     ]
    }
   ],
   "source": [
    "conda install -c conda-forge matplotlib"
   ]
  },
  {
   "cell_type": "markdown",
   "id": "5470f7f4-5efa-4221-9fc7-878a2296561e",
   "metadata": {},
   "source": [
    "### SciencePlots (Pip)"
   ]
  },
  {
   "cell_type": "code",
   "execution_count": 8,
   "id": "0dfe5d50-2bf3-4550-a84d-0140603e9eeb",
   "metadata": {},
   "outputs": [
    {
     "name": "stdout",
     "output_type": "stream",
     "text": [
      "Requirement already satisfied: SciencePlots in c:\\users\\luciano\\anaconda3\\lib\\site-packages (2.1.1)\n",
      "Requirement already satisfied: matplotlib in c:\\users\\luciano\\anaconda3\\lib\\site-packages (from SciencePlots) (3.5.2)\n",
      "Requirement already satisfied: python-dateutil>=2.7 in c:\\users\\luciano\\anaconda3\\lib\\site-packages (from matplotlib->SciencePlots) (2.8.2)\n",
      "Requirement already satisfied: packaging>=20.0 in c:\\users\\luciano\\anaconda3\\lib\\site-packages (from matplotlib->SciencePlots) (21.3)\n",
      "Requirement already satisfied: cycler>=0.10 in c:\\users\\luciano\\anaconda3\\lib\\site-packages (from matplotlib->SciencePlots) (0.11.0)\n",
      "Requirement already satisfied: kiwisolver>=1.0.1 in c:\\users\\luciano\\anaconda3\\lib\\site-packages (from matplotlib->SciencePlots) (1.4.2)\n",
      "Requirement already satisfied: fonttools>=4.22.0 in c:\\users\\luciano\\anaconda3\\lib\\site-packages (from matplotlib->SciencePlots) (4.25.0)\n",
      "Requirement already satisfied: pillow>=6.2.0 in c:\\users\\luciano\\anaconda3\\lib\\site-packages (from matplotlib->SciencePlots) (9.2.0)\n",
      "Requirement already satisfied: numpy>=1.17 in c:\\users\\luciano\\anaconda3\\lib\\site-packages (from matplotlib->SciencePlots) (1.21.5)\n",
      "Requirement already satisfied: pyparsing>=2.2.1 in c:\\users\\luciano\\anaconda3\\lib\\site-packages (from matplotlib->SciencePlots) (3.0.9)\n",
      "Requirement already satisfied: six>=1.5 in c:\\users\\luciano\\anaconda3\\lib\\site-packages (from python-dateutil>=2.7->matplotlib->SciencePlots) (1.16.0)\n",
      "Note: you may need to restart the kernel to use updated packages.\n"
     ]
    }
   ],
   "source": [
    "pip install SciencePlots"
   ]
  },
  {
   "cell_type": "markdown",
   "id": "1021f886-08f6-4b62-9ce9-76a8fca59ca9",
   "metadata": {},
   "source": [
    "### Pandas (Pip)"
   ]
  },
  {
   "cell_type": "code",
   "execution_count": 9,
   "id": "1b6f669b-e5ee-4ceb-b9d8-60abb332e4d5",
   "metadata": {},
   "outputs": [
    {
     "name": "stdout",
     "output_type": "stream",
     "text": [
      "Requirement already satisfied: pandas in c:\\users\\luciano\\anaconda3\\lib\\site-packages (1.4.4)\n",
      "Requirement already satisfied: pytz>=2020.1 in c:\\users\\luciano\\anaconda3\\lib\\site-packages (from pandas) (2022.1)\n",
      "Requirement already satisfied: numpy>=1.18.5 in c:\\users\\luciano\\anaconda3\\lib\\site-packages (from pandas) (1.21.5)\n",
      "Requirement already satisfied: python-dateutil>=2.8.1 in c:\\users\\luciano\\anaconda3\\lib\\site-packages (from pandas) (2.8.2)\n",
      "Requirement already satisfied: six>=1.5 in c:\\users\\luciano\\anaconda3\\lib\\site-packages (from python-dateutil>=2.8.1->pandas) (1.16.0)\n",
      "Note: you may need to restart the kernel to use updated packages.\n"
     ]
    }
   ],
   "source": [
    "pip install pandas"
   ]
  },
  {
   "cell_type": "code",
   "execution_count": 1,
   "id": "19eaaf2a",
   "metadata": {},
   "outputs": [],
   "source": [
    "from bci_solver_mol2tools import *\n",
    "from bci_solver_optimization import *\n",
    "from bci_solver_visualization import *"
   ]
  },
  {
   "cell_type": "code",
   "execution_count": null,
   "id": "c599adbe-095c-47db-8604-06f76c25f89d",
   "metadata": {},
   "outputs": [
    {
     "name": "stdout",
     "output_type": "stream",
     "text": [
      "This jupyter cell guides you through how to use the available functions in the bci solver.\n",
      "\n",
      "Please, inform if you want to compute the bci values for a single .mol2 file by typing 1 or if you intend to compute for multiple .mol2 files present in a single folder by typing 2.2\n"
     ]
    }
   ],
   "source": [
    "folder_or_single = int(input('''This jupyter cell guides you through how to use the available functions in the bci solver.\n",
    "\n",
    "Please, inform if you want to compute the bci values for a single .mol2 file by typing 1 or if you intend to compute for multiple .mol2 files present in a single folder by typing 2.'''))\n",
    "\n",
    "while folder_or_single !=1 and folder_or_single !=2:\n",
    "    folder_or_single = int(input('''Please, inform if you want to compute the bci values for a single .mol2 file by typing 1 or if you intend to compute for multiple .mol2 files present in a single folder by typing 2. \\n'''))\n",
    "\n",
    "if folder_or_single == 1:\n",
    "    mol2_file_path = input('''Type the path to the .mol2 file: \\n\\n''')\n",
    "    charges_question = int(input('''Are the charges needed for the computation available in the file itself (1) or in a external file (2)?: \\n\\n'''))\n",
    "    if charges_question == 2:\n",
    "        charges_format = input('''Currently, the files accepted as charge input must be of either of the following formats: Orca's .log files, .xyz files or excel sheets. Type \"log\" if the charges are available in a .log file, \"xyz\" their format is .xyz or \"sheet\" if they are available in an excel sheet: \\n\\n''')\n",
    "        charges_file_path = input('''Finally, inform the path to the file (including its extension) where the charges are located: \\n\\n''')\n",
    "        if charges_format.lower() == 'log':\n",
    "            mol2_file_path = charges_log2mol2(mol2_file_path,charges_file_path)\n",
    "        if charges_format.lower() == 'xyz':\n",
    "            mol2_file_path = charges2mol2(mol2_file_path,charges_file_path)\n",
    "        if charges_format.lower() == 'sheet':\n",
    "            mol2_file_path = dataframe2mol2(mol2_file_path,charges_file_path)\n",
    "    bci_solver_mol2(mol2_file_path)\n",
    "    \n",
    "else:\n",
    "    mol2_folder_path = input('''Type the path to the folder containing the .mol2 files: \\n\\n''')\n",
    "    charges_question = int(input('''Are the charges that are going to be used for the calculations present in the .mol2 files themselves (1) or in an external folder (2)?: \\n\\n'''))\n",
    "    if charges_question == 2:\n",
    "        charges_format = input('''Currently, the files accepted as charge input must be of either of the following formats: Orca's .log files, .xyz files or excel sheets. Type \"log\" if the charges are available in a .log file, \"xyz\" their format is .xyz or \"sheet\" if they are available in an excel sheet: \\n\\n''')\n",
    "        if charges_format.lower() == 'log':\n",
    "            charges_folder_path = input('''Inform the path to the folder where the charges are available. Make sure that the folder containing the .mol2 files and the folder containing the charges are ordered so that the i-th .mol2 file has charges corresponding to the i-th file contained in the folder where the charges are available: \\n\\n''')\n",
    "            mol2_folder_path = charges_log2mol2_folder(mol2_folder_path,charges_folder_path)\n",
    "        if charges_format.lower() == 'xyz':\n",
    "            charges_folder_path = input('''Inform the path to the folder where the charges are available. Make sure that the folder containing the .mol2 files and the folder containing the charges are ordered so that the i-th .mol2 file has charges corresponding to the i-th file contained in the folder where the charges are available: \\n\\n''')\n",
    "            mol2_folder_path = charges2mol2_folder(mol2_folder_path,charges_folder_path)\n",
    "        if charges_format.lower() == 'sheet':\n",
    "            charges_folder_path = input('''Inform the path to the folder where the charges are available. Make sure that the folder containing the .mol2 files and the folder containing the charges are ordered so that the i-th .mol2 file has charges corresponding to the i-th file contained in the folder where the charges are available: \\n\\n''')\n",
    "            mol2_folder_path = dataframe2mol2_folder(mol2_folder_path,charges_dataframe)\n",
    "    bci_solver_mol2_folder(mol2_folder_path)\n",
    "    bci_solver_visualizer(mol2_folder_path,full_name = True)\n",
    "    bci_solver_hist_visualizer(mol2_folder_path,full_name = True)\n",
    "\n",
    "print(r'The files were generated and are available in the folder \\Computational Chemistry\\bci_solver\\Output')"
   ]
  },
  {
   "cell_type": "code",
   "execution_count": null,
   "id": "d63975dd",
   "metadata": {},
   "outputs": [],
   "source": []
  },
  {
   "cell_type": "code",
   "execution_count": null,
   "id": "bf7dcdff",
   "metadata": {},
   "outputs": [],
   "source": []
  }
 ],
 "metadata": {
  "kernelspec": {
   "display_name": "Python 3 (ipykernel)",
   "language": "python",
   "name": "python3"
  },
  "language_info": {
   "codemirror_mode": {
    "name": "ipython",
    "version": 3
   },
   "file_extension": ".py",
   "mimetype": "text/x-python",
   "name": "python",
   "nbconvert_exporter": "python",
   "pygments_lexer": "ipython3",
   "version": "3.9.13"
  }
 },
 "nbformat": 4,
 "nbformat_minor": 5
}
