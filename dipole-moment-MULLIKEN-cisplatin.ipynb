{
 "cells": [
  {
   "cell_type": "code",
   "execution_count": 1,
   "id": "4804df16",
   "metadata": {},
   "outputs": [
    {
     "name": "stdout",
     "output_type": "stream",
     "text": [
      "Os componentes do Vector momento de dipolo em unidades C.m: [-3.63856981e-29 -2.68645173e-30 -2.99338202e-30]\n",
      "A magnitude do momento de dipolo: 10.97460364577785 Debye\n"
     ]
    }
   ],
   "source": [
    "# calculo do momento de dipolo apartir de cargas atomicas parciais Mulliken 1-DSD-BLYP-Sappo-TZP-DZP\n",
    "\n",
    "# Importar programa que fara calculos matematicos\n",
    "import numpy as np\n",
    "\n",
    "# definir cargas parciais atômicas e coordenadas (x,y,z) por cada atomo\n",
    "cargas = np.array([0.114787, -0.399879, -0.400068, -0.062043, -0.062191, 0.127937, 0.148228, 0.148319, 0.128441, 0.128414, 0.128058]) #as cargas\n",
    "coordenadas = np.array([\n",
    " [-3.3466, 0.2742, 0.1109], # atomo Pt\n",
    " [-1.9519, 2.0590, 0.2402], # atomo Cl2\n",
    " [-1.7028, -1.2850, 0.2313], # atomo Cl3\n",
    " [-4.7995, 1.7126, 0.0057], # atomo N4\n",
    " [-4.5728, -1.3614, -0.0045], #N5\n",
    " [-5.3377, 1.7214, -0.8591], #H6\n",
    " [-4.2649, 2.5878, 0.0458], #H7\n",
    " [-3.9187, -2.1502, 0.0517], #H8\n",
    " [-5.0879, -1.4524, -0.8785], #H9\n",
    " [-5.4569, 1.7195, 0.7837], #H10\n",
    " [-5.2370, -1.4583, 0.7617], #H11\n",
    "])\n",
    "\n",
    "# calculo componentes de vetor momento de dipolo ($mu_x$, $mu_y$, $mu_z$) \n",
    "# As coordenadas ORCA estao em Angstrom. 1A = 10^-10 m  \n",
    "# As cargas ORCA estão em e. 1e = 1.609*10^-19 C\n",
    "dipolo = np.sum(cargas[:, np.newaxis] * coordenadas, axis=0) \n",
    "dipolo2 = dipolo * (1.609*10**(-19))*(10**(-10))\n",
    "\n",
    "# calculo da magnitude do momento de dipolo. 1D = 3.33564*10^(-30)Cm\n",
    "magnitude_dipolo = np.linalg.norm(dipolo2)\n",
    "\n",
    "Debye = magnitude_dipolo * (1)/(3.33564*10**(-30))\n",
    "\n",
    "print(f\"Os componentes do Vector momento de dipolo em unidades C.m: {dipolo2}\")\n",
    "print(f\"A magnitude do momento de dipolo: {Debye} Debye\")"
   ]
  },
  {
   "cell_type": "code",
   "execution_count": null,
   "id": "ddcf1952",
   "metadata": {},
   "outputs": [],
   "source": []
  }
 ],
 "metadata": {
  "kernelspec": {
   "display_name": "Python 3 (ipykernel)",
   "language": "python",
   "name": "python3"
  },
  "language_info": {
   "codemirror_mode": {
    "name": "ipython",
    "version": 3
   },
   "file_extension": ".py",
   "mimetype": "text/x-python",
   "name": "python",
   "nbconvert_exporter": "python",
   "pygments_lexer": "ipython3",
   "version": "3.9.13"
  }
 },
 "nbformat": 4,
 "nbformat_minor": 5
}
