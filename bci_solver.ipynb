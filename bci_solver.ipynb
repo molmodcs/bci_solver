{
 "cells": [
  {
   "cell_type": "markdown",
   "id": "06ca3712",
   "metadata": {},
   "source": [
    "# Overview \n",
    "\n",
    "The purpose of the script is to recover information about the bond charge increments of a given interatomic interaction present in a chemical structure from the charges of each atom appearing in such structure. More precisely, given a chemical structure whose atoms are enumerated, the partial atomic charge $q_{j}$ of the $j$-th atom appearing in it is calculated through the MMFF94 force field as:\n",
    "\\begin{equation}\n",
    "q_{j} = q_{I_{j}}^{0} + \\sum\\limits_{k \\, \\, \\text{bonded to} \\, \\, j} \\omega_{I_{k},I_{j}}\n",
    "\\end{equation}\n",
    "These values are so that:\n",
    "\n",
    "* $I_{j}$ refers to the MMFF94 atom type of the $j$-th atom.\n",
    "\n",
    "* $q_{I_{j}}^{0}$ is the integral or fractional formal atomic\n",
    "charge associated to the atom type $I_{j}$, while $\\omega_{I_{k}, I_{j}}$ refers to the bond charge increment (bci) resulting from the interaction between the bonded atoms $j$ and $k$ of types $I_{j}$ e $I_{k}$ - respectively.\n",
    "\n",
    "* For any two given atom types $I_{j},I_{k}$, it holds that $\\omega_{I_{j},I_{k}} = - \\omega_{I_{k},I_{j}}$.\n",
    "\n",
    "Thus, once we have knowledge of all the bci values for the atoms types which are present in a given structure, it is possible to obtain the atomic charges for any of its constituent atoms.\n",
    "\n",
    "Conversely, it is natural to ask if it is possible to regenerate within a good degree of accuracy the bci values $\\omega_{I_{k}, I_{j}}$ for a given enumerated structure with specified charges $q_{j}$ and $q_{I_{j}}^{0}$.\n",
    "\n",
    "As a first insight, we notice that if we have any structure consisting of $N$ atoms:\n",
    "\\begin{equation}\n",
    "q_{j} - q_{I_{j}}^{0} = \\sum\\limits_{k \\, \\, \\text{bonded to} \\, \\, j} \\omega_{I_{k},I_{j}}\n",
    "\\end{equation}\n",
    "Determines a system of $N$ linear equations and $M$ unknown values, which correspond to the $M$ unique bci values appearing in the structure. Thus, our proposed problem is equivalent to finding solutions to the following linear equation\n",
    "\\begin{equation}\n",
    "\\Delta q = B \\omega\n",
    "\\end{equation}\n",
    "Where $\\Delta q$ is the vector in $\\mathbb{R}^{N}$ whose coordinates are specified by $q_{j} - q^{0}_{I_{j}}$, $\\omega$ being the vector in $\\mathbb{R}^{M}$ of unknown bci values $\\omega_{I_{k}, I_{j}}$, where we convention that $k < j$ and entries are sorted by lexicographic order, as well as: \n",
    "\\begin{equation}\n",
    "B = (b_{rs})_{\\substack{1 \\leq r \\leq N \\\\ 1 \\leq s \\leq M}}\n",
    "\\end{equation}\n",
    "being the $N \\times M$ matrix of coefficients for each bci $\\omega_{I_{k}, I_{j}}$ obtained from connectivity information about the structure. As such, the matrix $B$ is meant to be so that for each $r$, the following equation holds:\n",
    "\n",
    "\\begin{equation}\n",
    "q_{r} - q_{I_{r}}^{0} =\\sum\\limits_{s=1}^{M} b_{rs} \\omega_{I_{j_{s}},I_{k_{s}}}\n",
    "\\end{equation}\n",
    "\n",
    "We follow Halgren's previous approach and utilize a least squares method to find approximate solutions to the above-mentioned linear system of equations.\n",
    "\n",
    "This procedure was implemented as a computer program written using Python and its libraries - NumPy, SciPy and Matplotlib - for performing the necessary data manipulation, the least squares method and data visualization - respectively."
   ]
  },
  {
   "cell_type": "markdown",
   "id": "fd9ee200-e937-4d08-bdb5-efcbaa9382d9",
   "metadata": {},
   "source": [
    "# Dependencies\n",
    "\n",
    "For conveniency, we let available the necessary dependencies for running this script in in the corresponding cells."
   ]
  },
  {
   "cell_type": "markdown",
   "id": "8ed6e02c-8039-4bee-9a03-5c8373c67e42",
   "metadata": {},
   "source": [
    "### Numpy Installation (Pip)"
   ]
  },
  {
   "cell_type": "code",
   "execution_count": 1,
   "id": "8a755d02-ced5-4c81-90db-387fd647d969",
   "metadata": {},
   "outputs": [
    {
     "name": "stdout",
     "output_type": "stream",
     "text": [
      "Requirement already satisfied: numpy in c:\\users\\lukin\\appdata\\local\\programs\\python\\python312\\lib\\site-packages (1.26.1)\n",
      "Note: you may need to restart the kernel to use updated packages.\n"
     ]
    },
    {
     "name": "stderr",
     "output_type": "stream",
     "text": [
      "\n",
      "[notice] A new release of pip is available: 23.2.1 -> 23.3\n",
      "[notice] To update, run: python.exe -m pip install --upgrade pip\n"
     ]
    }
   ],
   "source": [
    "pip install numpy"
   ]
  },
  {
   "cell_type": "markdown",
   "id": "03d86cf3-c1cc-4f83-9699-3924e040dd87",
   "metadata": {},
   "source": [
    "### Numpy Installation (Conda)"
   ]
  },
  {
   "cell_type": "code",
   "execution_count": 2,
   "id": "ac8fbc56-a98c-4c41-9e9f-b2776e3e3582",
   "metadata": {},
   "outputs": [
    {
     "ename": "SyntaxError",
     "evalue": "invalid syntax (2928272308.py, line 2)",
     "output_type": "error",
     "traceback": [
      "\u001b[1;36m  Cell \u001b[1;32mIn[2], line 2\u001b[1;36m\u001b[0m\n\u001b[1;33m    conda create -n my-env\u001b[0m\n\u001b[1;37m          ^\u001b[0m\n\u001b[1;31mSyntaxError\u001b[0m\u001b[1;31m:\u001b[0m invalid syntax\n"
     ]
    }
   ],
   "source": [
    "# Best practice, use an environment rather than install in the base env\n",
    "conda create -n my-env\n",
    "conda activate my-env\n",
    "# If you want to install from conda-forge\n",
    "conda config --env --add channels conda-forge\n",
    "# The actual install command\n",
    "conda install numpy"
   ]
  },
  {
   "cell_type": "markdown",
   "id": "43b3d70e-ea19-4915-9d7b-fd2b72cae268",
   "metadata": {},
   "source": [
    "### SciPy"
   ]
  },
  {
   "cell_type": "code",
   "execution_count": null,
   "id": "b5cf2e86-45f0-4998-a4cc-dac59760244f",
   "metadata": {},
   "outputs": [],
   "source": [
    "pip install scipy"
   ]
  },
  {
   "cell_type": "code",
   "execution_count": null,
   "id": "38652bde-f4f4-44a7-9115-6f35b14ea0c1",
   "metadata": {},
   "outputs": [],
   "source": [
    "conda install scipy"
   ]
  },
  {
   "cell_type": "markdown",
   "id": "a1675e60-85c2-4d04-a359-aa63eecc8a38",
   "metadata": {},
   "source": [
    "### Matplotlib (Pip)"
   ]
  },
  {
   "cell_type": "code",
   "execution_count": null,
   "id": "bc8d9272-59f8-43eb-b2ed-31d4228d33b9",
   "metadata": {},
   "outputs": [],
   "source": [
    "pip install matplotlib"
   ]
  },
  {
   "cell_type": "markdown",
   "id": "0d3ba85e-1103-4312-bee5-fa85c1b46fa2",
   "metadata": {},
   "source": [
    "### Matplotlib (Conda)"
   ]
  },
  {
   "cell_type": "code",
   "execution_count": 3,
   "id": "d41e57ab-c53e-44e9-8f6b-46a14fab95f0",
   "metadata": {},
   "outputs": [
    {
     "ename": "ValueError",
     "evalue": "The python kernel does not appear to be a conda environment.  Please use ``%pip install`` instead.",
     "output_type": "error",
     "traceback": [
      "\u001b[1;31m---------------------------------------------------------------------------\u001b[0m",
      "\u001b[1;31mValueError\u001b[0m                                Traceback (most recent call last)",
      "Cell \u001b[1;32mIn[3], line 1\u001b[0m\n\u001b[1;32m----> 1\u001b[0m \u001b[43mget_ipython\u001b[49m\u001b[43m(\u001b[49m\u001b[43m)\u001b[49m\u001b[38;5;241;43m.\u001b[39;49m\u001b[43mrun_line_magic\u001b[49m\u001b[43m(\u001b[49m\u001b[38;5;124;43m'\u001b[39;49m\u001b[38;5;124;43mconda\u001b[39;49m\u001b[38;5;124;43m'\u001b[39;49m\u001b[43m,\u001b[49m\u001b[43m \u001b[49m\u001b[38;5;124;43m'\u001b[39;49m\u001b[38;5;124;43minstall matplotlib\u001b[39;49m\u001b[38;5;124;43m'\u001b[39;49m\u001b[43m)\u001b[49m\n",
      "File \u001b[1;32m~\\AppData\\Local\\Programs\\Python\\Python312\\Lib\\site-packages\\IPython\\core\\interactiveshell.py:2432\u001b[0m, in \u001b[0;36mInteractiveShell.run_line_magic\u001b[1;34m(self, magic_name, line, _stack_depth)\u001b[0m\n\u001b[0;32m   2430\u001b[0m     kwargs[\u001b[38;5;124m'\u001b[39m\u001b[38;5;124mlocal_ns\u001b[39m\u001b[38;5;124m'\u001b[39m] \u001b[38;5;241m=\u001b[39m \u001b[38;5;28mself\u001b[39m\u001b[38;5;241m.\u001b[39mget_local_scope(stack_depth)\n\u001b[0;32m   2431\u001b[0m \u001b[38;5;28;01mwith\u001b[39;00m \u001b[38;5;28mself\u001b[39m\u001b[38;5;241m.\u001b[39mbuiltin_trap:\n\u001b[1;32m-> 2432\u001b[0m     result \u001b[38;5;241m=\u001b[39m \u001b[43mfn\u001b[49m\u001b[43m(\u001b[49m\u001b[38;5;241;43m*\u001b[39;49m\u001b[43margs\u001b[49m\u001b[43m,\u001b[49m\u001b[43m \u001b[49m\u001b[38;5;241;43m*\u001b[39;49m\u001b[38;5;241;43m*\u001b[39;49m\u001b[43mkwargs\u001b[49m\u001b[43m)\u001b[49m\n\u001b[0;32m   2434\u001b[0m \u001b[38;5;66;03m# The code below prevents the output from being displayed\u001b[39;00m\n\u001b[0;32m   2435\u001b[0m \u001b[38;5;66;03m# when using magics with decorator @output_can_be_silenced\u001b[39;00m\n\u001b[0;32m   2436\u001b[0m \u001b[38;5;66;03m# when the last Python token in the expression is a ';'.\u001b[39;00m\n\u001b[0;32m   2437\u001b[0m \u001b[38;5;28;01mif\u001b[39;00m \u001b[38;5;28mgetattr\u001b[39m(fn, magic\u001b[38;5;241m.\u001b[39mMAGIC_OUTPUT_CAN_BE_SILENCED, \u001b[38;5;28;01mFalse\u001b[39;00m):\n",
      "File \u001b[1;32m~\\AppData\\Local\\Programs\\Python\\Python312\\Lib\\site-packages\\IPython\\core\\magics\\packaging.py:87\u001b[0m, in \u001b[0;36mPackagingMagics.conda\u001b[1;34m(self, line)\u001b[0m\n\u001b[0;32m     81\u001b[0m \u001b[38;5;250m\u001b[39m\u001b[38;5;124;03m\"\"\"Run the conda package manager within the current kernel.\u001b[39;00m\n\u001b[0;32m     82\u001b[0m \n\u001b[0;32m     83\u001b[0m \u001b[38;5;124;03mUsage:\u001b[39;00m\n\u001b[0;32m     84\u001b[0m \u001b[38;5;124;03m  %conda install [pkgs]\u001b[39;00m\n\u001b[0;32m     85\u001b[0m \u001b[38;5;124;03m\"\"\"\u001b[39;00m\n\u001b[0;32m     86\u001b[0m \u001b[38;5;28;01mif\u001b[39;00m \u001b[38;5;129;01mnot\u001b[39;00m _is_conda_environment():\n\u001b[1;32m---> 87\u001b[0m     \u001b[38;5;28;01mraise\u001b[39;00m \u001b[38;5;167;01mValueError\u001b[39;00m(\u001b[38;5;124m\"\u001b[39m\u001b[38;5;124mThe python kernel does not appear to be a conda environment.  \u001b[39m\u001b[38;5;124m\"\u001b[39m\n\u001b[0;32m     88\u001b[0m                      \u001b[38;5;124m\"\u001b[39m\u001b[38;5;124mPlease use ``\u001b[39m\u001b[38;5;124m%\u001b[39m\u001b[38;5;124mpip install`` instead.\u001b[39m\u001b[38;5;124m\"\u001b[39m)\n\u001b[0;32m     90\u001b[0m conda \u001b[38;5;241m=\u001b[39m _get_conda_executable()\n\u001b[0;32m     91\u001b[0m args \u001b[38;5;241m=\u001b[39m shlex\u001b[38;5;241m.\u001b[39msplit(line)\n",
      "\u001b[1;31mValueError\u001b[0m: The python kernel does not appear to be a conda environment.  Please use ``%pip install`` instead."
     ]
    }
   ],
   "source": [
    "conda install matplotlib"
   ]
  },
  {
   "cell_type": "markdown",
   "id": "7d53cf30-a9c8-49d1-9ba8-3864025cde01",
   "metadata": {},
   "source": [
    "### Matplotlib (Conda C-Forge)"
   ]
  },
  {
   "cell_type": "code",
   "execution_count": 4,
   "id": "2c2fc459-cfe0-4750-b26d-2fb639ff2540",
   "metadata": {},
   "outputs": [
    {
     "ename": "ValueError",
     "evalue": "The python kernel does not appear to be a conda environment.  Please use ``%pip install`` instead.",
     "output_type": "error",
     "traceback": [
      "\u001b[1;31m---------------------------------------------------------------------------\u001b[0m",
      "\u001b[1;31mValueError\u001b[0m                                Traceback (most recent call last)",
      "Cell \u001b[1;32mIn[4], line 1\u001b[0m\n\u001b[1;32m----> 1\u001b[0m \u001b[43mget_ipython\u001b[49m\u001b[43m(\u001b[49m\u001b[43m)\u001b[49m\u001b[38;5;241;43m.\u001b[39;49m\u001b[43mrun_line_magic\u001b[49m\u001b[43m(\u001b[49m\u001b[38;5;124;43m'\u001b[39;49m\u001b[38;5;124;43mconda\u001b[39;49m\u001b[38;5;124;43m'\u001b[39;49m\u001b[43m,\u001b[49m\u001b[43m \u001b[49m\u001b[38;5;124;43m'\u001b[39;49m\u001b[38;5;124;43minstall -c conda-forge matplotlib\u001b[39;49m\u001b[38;5;124;43m'\u001b[39;49m\u001b[43m)\u001b[49m\n",
      "File \u001b[1;32m~\\AppData\\Local\\Programs\\Python\\Python312\\Lib\\site-packages\\IPython\\core\\interactiveshell.py:2432\u001b[0m, in \u001b[0;36mInteractiveShell.run_line_magic\u001b[1;34m(self, magic_name, line, _stack_depth)\u001b[0m\n\u001b[0;32m   2430\u001b[0m     kwargs[\u001b[38;5;124m'\u001b[39m\u001b[38;5;124mlocal_ns\u001b[39m\u001b[38;5;124m'\u001b[39m] \u001b[38;5;241m=\u001b[39m \u001b[38;5;28mself\u001b[39m\u001b[38;5;241m.\u001b[39mget_local_scope(stack_depth)\n\u001b[0;32m   2431\u001b[0m \u001b[38;5;28;01mwith\u001b[39;00m \u001b[38;5;28mself\u001b[39m\u001b[38;5;241m.\u001b[39mbuiltin_trap:\n\u001b[1;32m-> 2432\u001b[0m     result \u001b[38;5;241m=\u001b[39m \u001b[43mfn\u001b[49m\u001b[43m(\u001b[49m\u001b[38;5;241;43m*\u001b[39;49m\u001b[43margs\u001b[49m\u001b[43m,\u001b[49m\u001b[43m \u001b[49m\u001b[38;5;241;43m*\u001b[39;49m\u001b[38;5;241;43m*\u001b[39;49m\u001b[43mkwargs\u001b[49m\u001b[43m)\u001b[49m\n\u001b[0;32m   2434\u001b[0m \u001b[38;5;66;03m# The code below prevents the output from being displayed\u001b[39;00m\n\u001b[0;32m   2435\u001b[0m \u001b[38;5;66;03m# when using magics with decorator @output_can_be_silenced\u001b[39;00m\n\u001b[0;32m   2436\u001b[0m \u001b[38;5;66;03m# when the last Python token in the expression is a ';'.\u001b[39;00m\n\u001b[0;32m   2437\u001b[0m \u001b[38;5;28;01mif\u001b[39;00m \u001b[38;5;28mgetattr\u001b[39m(fn, magic\u001b[38;5;241m.\u001b[39mMAGIC_OUTPUT_CAN_BE_SILENCED, \u001b[38;5;28;01mFalse\u001b[39;00m):\n",
      "File \u001b[1;32m~\\AppData\\Local\\Programs\\Python\\Python312\\Lib\\site-packages\\IPython\\core\\magics\\packaging.py:87\u001b[0m, in \u001b[0;36mPackagingMagics.conda\u001b[1;34m(self, line)\u001b[0m\n\u001b[0;32m     81\u001b[0m \u001b[38;5;250m\u001b[39m\u001b[38;5;124;03m\"\"\"Run the conda package manager within the current kernel.\u001b[39;00m\n\u001b[0;32m     82\u001b[0m \n\u001b[0;32m     83\u001b[0m \u001b[38;5;124;03mUsage:\u001b[39;00m\n\u001b[0;32m     84\u001b[0m \u001b[38;5;124;03m  %conda install [pkgs]\u001b[39;00m\n\u001b[0;32m     85\u001b[0m \u001b[38;5;124;03m\"\"\"\u001b[39;00m\n\u001b[0;32m     86\u001b[0m \u001b[38;5;28;01mif\u001b[39;00m \u001b[38;5;129;01mnot\u001b[39;00m _is_conda_environment():\n\u001b[1;32m---> 87\u001b[0m     \u001b[38;5;28;01mraise\u001b[39;00m \u001b[38;5;167;01mValueError\u001b[39;00m(\u001b[38;5;124m\"\u001b[39m\u001b[38;5;124mThe python kernel does not appear to be a conda environment.  \u001b[39m\u001b[38;5;124m\"\u001b[39m\n\u001b[0;32m     88\u001b[0m                      \u001b[38;5;124m\"\u001b[39m\u001b[38;5;124mPlease use ``\u001b[39m\u001b[38;5;124m%\u001b[39m\u001b[38;5;124mpip install`` instead.\u001b[39m\u001b[38;5;124m\"\u001b[39m)\n\u001b[0;32m     90\u001b[0m conda \u001b[38;5;241m=\u001b[39m _get_conda_executable()\n\u001b[0;32m     91\u001b[0m args \u001b[38;5;241m=\u001b[39m shlex\u001b[38;5;241m.\u001b[39msplit(line)\n",
      "\u001b[1;31mValueError\u001b[0m: The python kernel does not appear to be a conda environment.  Please use ``%pip install`` instead."
     ]
    }
   ],
   "source": [
    "conda install -c conda-forge matplotlib"
   ]
  },
  {
   "cell_type": "markdown",
   "id": "5470f7f4-5efa-4221-9fc7-878a2296561e",
   "metadata": {},
   "source": [
    "### SciencePlots (Pip)"
   ]
  },
  {
   "cell_type": "code",
   "execution_count": 5,
   "id": "6a89c7f2-3ff8-4e7d-84d5-fb469439a5f1",
   "metadata": {},
   "outputs": [
    {
     "name": "stdout",
     "output_type": "stream",
     "text": [
      "Requirement already satisfied: SciencePlots in c:\\users\\lukin\\appdata\\local\\programs\\python\\python312\\lib\\site-packages (2.1.0)\n",
      "Requirement already satisfied: matplotlib in c:\\users\\lukin\\appdata\\local\\programs\\python\\python312\\lib\\site-packages (from SciencePlots) (3.8.0)\n",
      "Requirement already satisfied: contourpy>=1.0.1 in c:\\users\\lukin\\appdata\\local\\programs\\python\\python312\\lib\\site-packages (from matplotlib->SciencePlots) (1.1.1)\n",
      "Requirement already satisfied: cycler>=0.10 in c:\\users\\lukin\\appdata\\local\\programs\\python\\python312\\lib\\site-packages (from matplotlib->SciencePlots) (0.12.1)\n",
      "Requirement already satisfied: fonttools>=4.22.0 in c:\\users\\lukin\\appdata\\local\\programs\\python\\python312\\lib\\site-packages (from matplotlib->SciencePlots) (4.43.1)\n",
      "Requirement already satisfied: kiwisolver>=1.0.1 in c:\\users\\lukin\\appdata\\local\\programs\\python\\python312\\lib\\site-packages (from matplotlib->SciencePlots) (1.4.5)\n",
      "Requirement already satisfied: numpy<2,>=1.21 in c:\\users\\lukin\\appdata\\local\\programs\\python\\python312\\lib\\site-packages (from matplotlib->SciencePlots) (1.26.1)\n",
      "Requirement already satisfied: packaging>=20.0 in c:\\users\\lukin\\appdata\\local\\programs\\python\\python312\\lib\\site-packages (from matplotlib->SciencePlots) (23.2)\n",
      "Requirement already satisfied: pillow>=6.2.0 in c:\\users\\lukin\\appdata\\local\\programs\\python\\python312\\lib\\site-packages (from matplotlib->SciencePlots) (10.1.0)\n",
      "Requirement already satisfied: pyparsing>=2.3.1 in c:\\users\\lukin\\appdata\\local\\programs\\python\\python312\\lib\\site-packages (from matplotlib->SciencePlots) (3.1.1)\n",
      "Requirement already satisfied: python-dateutil>=2.7 in c:\\users\\lukin\\appdata\\local\\programs\\python\\python312\\lib\\site-packages (from matplotlib->SciencePlots) (2.8.2)\n",
      "Requirement already satisfied: six>=1.5 in c:\\users\\lukin\\appdata\\local\\programs\\python\\python312\\lib\\site-packages (from python-dateutil>=2.7->matplotlib->SciencePlots) (1.16.0)\n",
      "Note: you may need to restart the kernel to use updated packages.\n"
     ]
    },
    {
     "name": "stderr",
     "output_type": "stream",
     "text": [
      "\n",
      "[notice] A new release of pip is available: 23.2.1 -> 23.3\n",
      "[notice] To update, run: python.exe -m pip install --upgrade pip\n"
     ]
    }
   ],
   "source": [
    "pip install SciencePlots"
   ]
  },
  {
   "cell_type": "markdown",
   "id": "1021f886-08f6-4b62-9ce9-76a8fca59ca9",
   "metadata": {},
   "source": [
    "### Pandas (Pip)"
   ]
  },
  {
   "cell_type": "code",
   "execution_count": 6,
   "id": "2bc0a541-0c64-4fb4-925e-9cab5025603a",
   "metadata": {},
   "outputs": [
    {
     "name": "stdout",
     "output_type": "stream",
     "text": [
      "Requirement already satisfied: pandas in c:\\users\\lukin\\appdata\\local\\programs\\python\\python312\\lib\\site-packages (2.1.1)\n",
      "Requirement already satisfied: numpy>=1.26.0 in c:\\users\\lukin\\appdata\\local\\programs\\python\\python312\\lib\\site-packages (from pandas) (1.26.1)\n",
      "Requirement already satisfied: python-dateutil>=2.8.2 in c:\\users\\lukin\\appdata\\local\\programs\\python\\python312\\lib\\site-packages (from pandas) (2.8.2)\n",
      "Requirement already satisfied: pytz>=2020.1 in c:\\users\\lukin\\appdata\\local\\programs\\python\\python312\\lib\\site-packages (from pandas) (2023.3.post1)\n",
      "Requirement already satisfied: tzdata>=2022.1 in c:\\users\\lukin\\appdata\\local\\programs\\python\\python312\\lib\\site-packages (from pandas) (2023.3)\n",
      "Requirement already satisfied: six>=1.5 in c:\\users\\lukin\\appdata\\local\\programs\\python\\python312\\lib\\site-packages (from python-dateutil>=2.8.2->pandas) (1.16.0)\n",
      "Note: you may need to restart the kernel to use updated packages.\n"
     ]
    },
    {
     "name": "stderr",
     "output_type": "stream",
     "text": [
      "\n",
      "[notice] A new release of pip is available: 23.2.1 -> 23.3\n",
      "[notice] To update, run: python.exe -m pip install --upgrade pip\n"
     ]
    }
   ],
   "source": [
    "pip install pandas"
   ]
  },
  {
   "cell_type": "code",
   "execution_count": 7,
   "id": "19eaaf2a",
   "metadata": {},
   "outputs": [],
   "source": [
    "from bci_solver_mol2tools import *\n",
    "from bci_solver_optimization import *\n",
    "from bci_solver_visualization import *"
   ]
  },
  {
   "cell_type": "code",
   "execution_count": null,
   "id": "66df9448",
   "metadata": {},
   "outputs": [],
   "source": [
    "folder_or_single = int(input('''This jupyter cell guides you through how to use the available functions in the bci solver.\n",
    "\n",
    "Please, inform if you want to compute the bci values for a single .mol2 file by typing 1 or if you intend to compute for multiple .mol2 files present in a single folder by typing 2.'''))\n",
    "\n",
    "while folder_or_single !=1 and folder_or_single !=2:\n",
    "    folder_or_single = int(input('''Please, inform if you want to compute the bci values for a single .mol2 file by typing 1 or if you intend to compute for multiple .mol2 files present in a single folder by typing 2. \\n'''))\n",
    "\n",
    "if folder_or_single == 1:\n",
    "    mol2_file_path = input('''Type the path to the .mol2 file: \\n\\n''')\n",
    "    charges_question = int(input('''Are the charges needed for the computation available in the file itself (1) or in a external file (2)?: \\n\\n'''))\n",
    "    if charges_question == 2:\n",
    "        charges_format = input('''Currently, the files accepted as charge input must be of either of the following formats: Orca's .log files, .xyz files or excel sheets. Type \"log\" if the charges are available in a .log file, \"xyz\" their format is .xyz or \"sheet\" if they are available in an excel sheet: \\n\\n''')\n",
    "        charges_file_path = input('''Finally, inform the path to the file (including its extension) where the charges are located: \\n\\n''')\n",
    "        if charges_format.lower() == 'log':\n",
    "            mol2_file_path = charges_log2mol2(mol2_file_path,charges_file_path)\n",
    "        if charges_format.lower() == 'xyz':\n",
    "            mol2_file_path = charges2mol2(mol2_file_path,charges_file_path)\n",
    "        if charges_format.lower() == 'sheet':\n",
    "            mol2_file_path = dataframe2mol2(mol2_file_path,charges_file_path)\n",
    "    bci_solver_mol2(mol2_file_path)\n",
    "    \n",
    "else:\n",
    "    mol2_folder_path = input('''Type the path to the folder containing the .mol2 files: \\n\\n''')\n",
    "    charges_question = int(input('''As cargas para o cálculo estão disponíveis nos próprio arquivos mol2 pertencentes à pasta (1) ou em uma pasta externa (2)?: \\n\\n'''))\n",
    "    if charges_question == 2:\n",
    "        charges_format = input('''Currently, the files accepted as charge input must be of either of the following formats: Orca's .log files, .xyz files or excel sheets. Type \"log\" if the charges are available in a .log file, \"xyz\" their format is .xyz or \"sheet\" if they are available in an excel sheet: \\n\\n''')\n",
    "        if charges_format.lower() == 'log':\n",
    "            charges_folder_path = input('''Inform the path to the folder where the charges are available. Make sure certeza that the folder containing the .mol2 files and the folder containing the charges are ordered so that the i-th .mol2 file has charges corresponding to the i-th file contained in the folder where the charges are available: \\n\\n''')\n",
    "            mol2_folder_path = charges_log2mol2_folder(mol2_folder_path,charges_folder_path)\n",
    "        if charges_format.lower() == 'xyz':\n",
    "            charges_folder_path = input('''Inform the path to the folder where the charges are available. Make sure certeza that the folder containing the .mol2 files and the folder containing the charges are ordered so that the i-th .mol2 file has charges corresponding to the i-th file contained in the folder where the charges are available: \\n\\n''')\n",
    "            mol2_folder_path = charges2mol2_folder(mol2_folder_path,charges_folder_path)\n",
    "        if charges_format.lower() == 'sheet':\n",
    "            charges_folder_path = input('''Inform the path to the folder where the charges are available. Make sure certeza that the folder containing the .mol2 files and the folder containing the charges are ordered so that the i-th .mol2 file has charges corresponding to the i-th file contained in the folder where the charges are available: \\n\\n''')\n",
    "            mol2_folder_path = dataframe2mol2_folder(mol2_folder_path,charges_dataframe)\n",
    "    bci_solver_mol2_folder(mol2_folder_path)\n",
    "    bci_solver_visualizer(mol2_folder_path)\n",
    "    bci_solver_hist_visualizer(mol2_folder_path)\n",
    "\n",
    "print(r'The files were generated and are available in the folder \\Computational Chemistry\\bci_solver\\Output')"
   ]
  },
  {
   "cell_type": "code",
   "execution_count": null,
   "id": "2b18e3d7-e66f-4000-b940-417fe2e149ba",
   "metadata": {},
   "outputs": [],
   "source": []
  }
 ],
 "metadata": {
  "kernelspec": {
   "display_name": "Python 3 (ipykernel)",
   "language": "python",
   "name": "python3"
  },
  "language_info": {
   "codemirror_mode": {
    "name": "ipython",
    "version": 3
   },
   "file_extension": ".py",
   "mimetype": "text/x-python",
   "name": "python",
   "nbconvert_exporter": "python",
   "pygments_lexer": "ipython3",
   "version": "3.12.0"
  }
 },
 "nbformat": 4,
 "nbformat_minor": 5
}
